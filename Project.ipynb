{
 "cells": [
  {
   "cell_type": "code",
   "execution_count": null,
   "id": "327f0223-a2cd-4b72-9389-71c25abd7d9c",
   "metadata": {},
   "outputs": [],
   "source": [
    "library(tidyverse)"
   ]
  },
  {
   "cell_type": "code",
   "execution_count": 10,
   "id": "46602642-dec9-424c-a394-668e5db7a754",
   "metadata": {},
   "outputs": [
    {
     "data": {
      "text/html": [
       "<table>\n",
       "<thead><tr><th scope=col>battery_power</th><th scope=col>blue</th><th scope=col>clock_speed</th><th scope=col>dual_sim</th><th scope=col>fc</th><th scope=col>four_g</th><th scope=col>int_memory</th><th scope=col>m_dep</th><th scope=col>mobile_wt</th><th scope=col>n_cores</th><th scope=col>...</th><th scope=col>px_height</th><th scope=col>px_width</th><th scope=col>ram</th><th scope=col>sc_h</th><th scope=col>sc_w</th><th scope=col>talk_time</th><th scope=col>three_g</th><th scope=col>touch_screen</th><th scope=col>wifi</th><th scope=col>price_range</th></tr></thead>\n",
       "<tbody>\n",
       "\t<tr><td> 842</td><td>0   </td><td>2.2 </td><td>0   </td><td> 1  </td><td>0   </td><td> 7  </td><td>0.6 </td><td>188 </td><td>2   </td><td>... </td><td>  20</td><td> 756</td><td>2549</td><td> 9  </td><td>7   </td><td>19  </td><td>0   </td><td>0   </td><td>1   </td><td>1   </td></tr>\n",
       "\t<tr><td>1021</td><td>1   </td><td>0.5 </td><td>1   </td><td> 0  </td><td>1   </td><td>53  </td><td>0.7 </td><td>136 </td><td>3   </td><td>... </td><td> 905</td><td>1988</td><td>2631</td><td>17  </td><td>3   </td><td> 7  </td><td>1   </td><td>1   </td><td>0   </td><td>2   </td></tr>\n",
       "\t<tr><td> 563</td><td>1   </td><td>0.5 </td><td>1   </td><td> 2  </td><td>1   </td><td>41  </td><td>0.9 </td><td>145 </td><td>5   </td><td>... </td><td>1263</td><td>1716</td><td>2603</td><td>11  </td><td>2   </td><td> 9  </td><td>1   </td><td>1   </td><td>0   </td><td>2   </td></tr>\n",
       "\t<tr><td> 615</td><td>1   </td><td>2.5 </td><td>0   </td><td> 0  </td><td>0   </td><td>10  </td><td>0.8 </td><td>131 </td><td>6   </td><td>... </td><td>1216</td><td>1786</td><td>2769</td><td>16  </td><td>8   </td><td>11  </td><td>1   </td><td>0   </td><td>0   </td><td>2   </td></tr>\n",
       "\t<tr><td>1821</td><td>1   </td><td>1.2 </td><td>0   </td><td>13  </td><td>1   </td><td>44  </td><td>0.6 </td><td>141 </td><td>2   </td><td>... </td><td>1208</td><td>1212</td><td>1411</td><td> 8  </td><td>2   </td><td>15  </td><td>1   </td><td>1   </td><td>0   </td><td>1   </td></tr>\n",
       "\t<tr><td>1859</td><td>0   </td><td>0.5 </td><td>1   </td><td> 3  </td><td>0   </td><td>22  </td><td>0.7 </td><td>164 </td><td>1   </td><td>... </td><td>1004</td><td>1654</td><td>1067</td><td>17  </td><td>1   </td><td>10  </td><td>1   </td><td>0   </td><td>0   </td><td>1   </td></tr>\n",
       "</tbody>\n",
       "</table>\n"
      ],
      "text/latex": [
       "\\begin{tabular}{r|lllllllllllllllllllll}\n",
       " battery\\_power & blue & clock\\_speed & dual\\_sim & fc & four\\_g & int\\_memory & m\\_dep & mobile\\_wt & n\\_cores & ... & px\\_height & px\\_width & ram & sc\\_h & sc\\_w & talk\\_time & three\\_g & touch\\_screen & wifi & price\\_range\\\\\n",
       "\\hline\n",
       "\t  842 & 0    & 2.2  & 0    &  1   & 0    &  7   & 0.6  & 188  & 2    & ...  &   20 &  756 & 2549 &  9   & 7    & 19   & 0    & 0    & 1    & 1   \\\\\n",
       "\t 1021 & 1    & 0.5  & 1    &  0   & 1    & 53   & 0.7  & 136  & 3    & ...  &  905 & 1988 & 2631 & 17   & 3    &  7   & 1    & 1    & 0    & 2   \\\\\n",
       "\t  563 & 1    & 0.5  & 1    &  2   & 1    & 41   & 0.9  & 145  & 5    & ...  & 1263 & 1716 & 2603 & 11   & 2    &  9   & 1    & 1    & 0    & 2   \\\\\n",
       "\t  615 & 1    & 2.5  & 0    &  0   & 0    & 10   & 0.8  & 131  & 6    & ...  & 1216 & 1786 & 2769 & 16   & 8    & 11   & 1    & 0    & 0    & 2   \\\\\n",
       "\t 1821 & 1    & 1.2  & 0    & 13   & 1    & 44   & 0.6  & 141  & 2    & ...  & 1208 & 1212 & 1411 &  8   & 2    & 15   & 1    & 1    & 0    & 1   \\\\\n",
       "\t 1859 & 0    & 0.5  & 1    &  3   & 0    & 22   & 0.7  & 164  & 1    & ...  & 1004 & 1654 & 1067 & 17   & 1    & 10   & 1    & 0    & 0    & 1   \\\\\n",
       "\\end{tabular}\n"
      ],
      "text/markdown": [
       "\n",
       "| battery_power | blue | clock_speed | dual_sim | fc | four_g | int_memory | m_dep | mobile_wt | n_cores | ... | px_height | px_width | ram | sc_h | sc_w | talk_time | three_g | touch_screen | wifi | price_range |\n",
       "|---|---|---|---|---|---|---|---|---|---|---|---|---|---|---|---|---|---|---|---|---|\n",
       "|  842 | 0    | 2.2  | 0    |  1   | 0    |  7   | 0.6  | 188  | 2    | ...  |   20 |  756 | 2549 |  9   | 7    | 19   | 0    | 0    | 1    | 1    |\n",
       "| 1021 | 1    | 0.5  | 1    |  0   | 1    | 53   | 0.7  | 136  | 3    | ...  |  905 | 1988 | 2631 | 17   | 3    |  7   | 1    | 1    | 0    | 2    |\n",
       "|  563 | 1    | 0.5  | 1    |  2   | 1    | 41   | 0.9  | 145  | 5    | ...  | 1263 | 1716 | 2603 | 11   | 2    |  9   | 1    | 1    | 0    | 2    |\n",
       "|  615 | 1    | 2.5  | 0    |  0   | 0    | 10   | 0.8  | 131  | 6    | ...  | 1216 | 1786 | 2769 | 16   | 8    | 11   | 1    | 0    | 0    | 2    |\n",
       "| 1821 | 1    | 1.2  | 0    | 13   | 1    | 44   | 0.6  | 141  | 2    | ...  | 1208 | 1212 | 1411 |  8   | 2    | 15   | 1    | 1    | 0    | 1    |\n",
       "| 1859 | 0    | 0.5  | 1    |  3   | 0    | 22   | 0.7  | 164  | 1    | ...  | 1004 | 1654 | 1067 | 17   | 1    | 10   | 1    | 0    | 0    | 1    |\n",
       "\n"
      ],
      "text/plain": [
       "  battery_power blue clock_speed dual_sim fc four_g int_memory m_dep mobile_wt\n",
       "1  842          0    2.2         0         1 0       7         0.6   188      \n",
       "2 1021          1    0.5         1         0 1      53         0.7   136      \n",
       "3  563          1    0.5         1         2 1      41         0.9   145      \n",
       "4  615          1    2.5         0         0 0      10         0.8   131      \n",
       "5 1821          1    1.2         0        13 1      44         0.6   141      \n",
       "6 1859          0    0.5         1         3 0      22         0.7   164      \n",
       "  n_cores ... px_height px_width ram  sc_h sc_w talk_time three_g touch_screen\n",
       "1 2       ...   20       756     2549  9   7    19        0       0           \n",
       "2 3       ...  905      1988     2631 17   3     7        1       1           \n",
       "3 5       ... 1263      1716     2603 11   2     9        1       1           \n",
       "4 6       ... 1216      1786     2769 16   8    11        1       0           \n",
       "5 2       ... 1208      1212     1411  8   2    15        1       1           \n",
       "6 1       ... 1004      1654     1067 17   1    10        1       0           \n",
       "  wifi price_range\n",
       "1 1    1          \n",
       "2 0    2          \n",
       "3 0    2          \n",
       "4 0    2          \n",
       "5 0    1          \n",
       "6 0    1          "
      ]
     },
     "metadata": {},
     "output_type": "display_data"
    }
   ],
   "source": [
    "ds <- read.csv(\"Mobile_train.csv\",header = T)\n",
    "head(ds)"
   ]
  },
  {
   "cell_type": "code",
   "execution_count": 3,
   "id": "32951bc2-2c4c-493c-86e3-8f5218960241",
   "metadata": {},
   "outputs": [
    {
     "data": {
      "text/html": [
       "<ol class=list-inline>\n",
       "\t<li>'battery_power'</li>\n",
       "\t<li>'blue'</li>\n",
       "\t<li>'clock_speed'</li>\n",
       "\t<li>'dual_sim'</li>\n",
       "\t<li>'fc'</li>\n",
       "\t<li>'four_g'</li>\n",
       "\t<li>'int_memory'</li>\n",
       "\t<li>'m_dep'</li>\n",
       "\t<li>'mobile_wt'</li>\n",
       "\t<li>'n_cores'</li>\n",
       "\t<li>'pc'</li>\n",
       "\t<li>'px_height'</li>\n",
       "\t<li>'px_width'</li>\n",
       "\t<li>'ram'</li>\n",
       "\t<li>'sc_h'</li>\n",
       "\t<li>'sc_w'</li>\n",
       "\t<li>'talk_time'</li>\n",
       "\t<li>'three_g'</li>\n",
       "\t<li>'touch_screen'</li>\n",
       "\t<li>'wifi'</li>\n",
       "\t<li>'price_range'</li>\n",
       "</ol>\n"
      ],
      "text/latex": [
       "\\begin{enumerate*}\n",
       "\\item 'battery\\_power'\n",
       "\\item 'blue'\n",
       "\\item 'clock\\_speed'\n",
       "\\item 'dual\\_sim'\n",
       "\\item 'fc'\n",
       "\\item 'four\\_g'\n",
       "\\item 'int\\_memory'\n",
       "\\item 'm\\_dep'\n",
       "\\item 'mobile\\_wt'\n",
       "\\item 'n\\_cores'\n",
       "\\item 'pc'\n",
       "\\item 'px\\_height'\n",
       "\\item 'px\\_width'\n",
       "\\item 'ram'\n",
       "\\item 'sc\\_h'\n",
       "\\item 'sc\\_w'\n",
       "\\item 'talk\\_time'\n",
       "\\item 'three\\_g'\n",
       "\\item 'touch\\_screen'\n",
       "\\item 'wifi'\n",
       "\\item 'price\\_range'\n",
       "\\end{enumerate*}\n"
      ],
      "text/markdown": [
       "1. 'battery_power'\n",
       "2. 'blue'\n",
       "3. 'clock_speed'\n",
       "4. 'dual_sim'\n",
       "5. 'fc'\n",
       "6. 'four_g'\n",
       "7. 'int_memory'\n",
       "8. 'm_dep'\n",
       "9. 'mobile_wt'\n",
       "10. 'n_cores'\n",
       "11. 'pc'\n",
       "12. 'px_height'\n",
       "13. 'px_width'\n",
       "14. 'ram'\n",
       "15. 'sc_h'\n",
       "16. 'sc_w'\n",
       "17. 'talk_time'\n",
       "18. 'three_g'\n",
       "19. 'touch_screen'\n",
       "20. 'wifi'\n",
       "21. 'price_range'\n",
       "\n",
       "\n"
      ],
      "text/plain": [
       " [1] \"battery_power\" \"blue\"          \"clock_speed\"   \"dual_sim\"     \n",
       " [5] \"fc\"            \"four_g\"        \"int_memory\"    \"m_dep\"        \n",
       " [9] \"mobile_wt\"     \"n_cores\"       \"pc\"            \"px_height\"    \n",
       "[13] \"px_width\"      \"ram\"           \"sc_h\"          \"sc_w\"         \n",
       "[17] \"talk_time\"     \"three_g\"       \"touch_screen\"  \"wifi\"         \n",
       "[21] \"price_range\"  "
      ]
     },
     "metadata": {},
     "output_type": "display_data"
    }
   ],
   "source": [
    "colnames(ds)\n"
   ]
  },
  {
   "cell_type": "code",
   "execution_count": 11,
   "id": "71ab4ba8-babd-4dd6-875c-7d128e4f5946",
   "metadata": {},
   "outputs": [
    {
     "data": {
      "text/plain": [
       "NULL"
      ]
     },
     "metadata": {},
     "output_type": "display_data"
    }
   ],
   "source": []
  }
 ],
 "metadata": {
  "kernelspec": {
   "display_name": "R",
   "language": "R",
   "name": "ir"
  },
  "language_info": {
   "codemirror_mode": "r",
   "file_extension": ".r",
   "mimetype": "text/x-r-source",
   "name": "R",
   "pygments_lexer": "r",
   "version": "3.6.1"
  }
 },
 "nbformat": 4,
 "nbformat_minor": 5
}
